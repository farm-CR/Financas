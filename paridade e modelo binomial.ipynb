{
 "cells": [
  {
   "cell_type": "code",
   "execution_count": 8,
   "metadata": {},
   "outputs": [],
   "source": [
    "import pandas as pd\n",
    "import numpy as np\n",
    "import matplotlib.pyplot as plt"
   ]
  },
  {
   "attachments": {},
   "cell_type": "markdown",
   "metadata": {},
   "source": [
    "## Paridade Put - Call\n",
    "#### (europeia)\n",
    "    1. rf : anual\n",
    "    2. venc_du : dias uteis\n",
    "    3. S0 : ativo objeto spot\n",
    "    4. strike: preço de exercicio opcao\n",
    "\n"
   ]
  },
  {
   "cell_type": "code",
   "execution_count": 9,
   "metadata": {},
   "outputs": [],
   "source": [
    "premio_c = 0.5\n",
    "premio_p = 1.2\n",
    "\n",
    "strike = 23 \n",
    "venc = 10 # Vencimento da estratégia em anos\n",
    "rf = 0.1375 # *100 '% a.a'\n",
    "m_rf = 0\n",
    "S0 = 10\n"
   ]
  },
  {
   "attachments": {},
   "cell_type": "markdown",
   "metadata": {},
   "source": [
    "#### Call"
   ]
  },
  {
   "cell_type": "code",
   "execution_count": 10,
   "metadata": {},
   "outputs": [],
   "source": [
    "## Descobrir \"c\" (Prêmio da Call)\n",
    "c_0 = premio_p + S0 - (strike)/((1+rf)**venc)\n",
    "# c_0 = premio_p + S0 - (strike)*np.exp(-rf * t)"
   ]
  },
  {
   "attachments": {},
   "cell_type": "markdown",
   "metadata": {},
   "source": [
    "#### Put"
   ]
  },
  {
   "cell_type": "code",
   "execution_count": 11,
   "metadata": {},
   "outputs": [],
   "source": [
    "## Descobrir \"p\" (Prêmio da Put)\n",
    "p_0 = premio_c + (strike)/((1+rf)**venc) - S0\n",
    "# p_0 = premio_c + (strike)*np.exp(-rf * t) - S0"
   ]
  },
  {
   "attachments": {},
   "cell_type": "markdown",
   "metadata": {},
   "source": [
    "## Modelo Binário"
   ]
  },
  {
   "cell_type": "code",
   "execution_count": 12,
   "metadata": {},
   "outputs": [],
   "source": [
    "def mod_binario_q(cenario_up, cenario_down, S0, strike, rf, tipo, ret = False):\n",
    "    \n",
    "    u = cenario_up/S0\n",
    "    d = cenario_down/S0\n",
    "\n",
    "    q = (1 + rf - d)/(u - d)\n",
    "\n",
    "    if tipo == \"call\":\n",
    "        payoff_up = cenario_up - strike if cenario_up > strike else 0\n",
    "        payoff_down = cenario_down - strike if cenario_down > strike else 0\n",
    "    else:\n",
    "        payoff_up = strike - cenario_up if cenario_up > strike else 0\n",
    "        payoff_down = strike - cenario_down if cenario_down > strike else 0\n",
    "\n",
    "    premio = (q * payoff_up + (1-q)* payoff_down)/(1+rf)\n",
    "\n",
    "    if ret == \"payoff\":\n",
    "        return premio\n",
    "    else:\n",
    "        return premio\n",
    "\n",
    "\n",
    "# # # Raiz \"Modelo Binário por 'q' \"\n",
    "# INPUTS\n",
    "cenario_up = 60\n",
    "cenario_down = 40\n",
    "S0 = 50\n",
    "strike = 50\n",
    "rf = 0.1\n",
    "tipo = \"call\"\n",
    "# #\n",
    "\n",
    "u = cenario_up/S0\n",
    "d = cenario_down/S0\n",
    "\n",
    "q = (1 + rf - d)/(u - d)\n",
    "\n",
    "if tipo == \"call\":\n",
    "    payoff_up = cenario_up - strike if cenario_up > strike else 0\n",
    "    payoff_down = cenario_down - strike if cenario_down > strike else 0\n",
    "else:\n",
    "    payoff_up = strike - cenario_up if cenario_up > strike else 0\n",
    "    payoff_down = strike - cenario_down if cenario_down > strike else 0\n",
    "\n",
    "premio = (q * payoff_up + (1-q)* payoff_down)/ (1+rf)"
   ]
  },
  {
   "cell_type": "code",
   "execution_count": 23,
   "metadata": {},
   "outputs": [
    {
     "name": "stdout",
     "output_type": "stream",
     "text": [
      "1.0\n"
     ]
    }
   ],
   "source": [
    "def mod_binario_pr(cenario_up, cenario_down, S0, strike, rf, tipo, ret = False):\n",
    "    \n",
    "    u = cenario_up/S0\n",
    "    d = cenario_down/S0\n",
    "\n",
    "    if tipo == \"call\":\n",
    "        payoff_up = cenario_up - strike if cenario_up > strike else 0\n",
    "        payoff_down = cenario_down - strike if cenario_down > strike else 0\n",
    "    else:\n",
    "        payoff_up = strike - cenario_up if cenario_up > strike else 0\n",
    "        payoff_down = strike - cenario_down if cenario_down > strike else 0\n",
    "\n",
    "    delta = (payoff_up - payoff_down) / ((u-d)* S0)\n",
    "    B = (u * payoff_down - d * payoff_up) / (u  -d) * (1 + rf)\n",
    "\n",
    "    V0 = B + delta * S0\n",
    "\n",
    "    if ret == \"payoff\":\n",
    "        return [payoff_up, payoff_down]\n",
    "    else:\n",
    "        return V0\n",
    "    \n",
    "\n",
    "# # # Raiz \"Modelo Binário por 'pr' \"\n",
    "# INPUTS\n",
    "cenario_up = 140\n",
    "cenario_down = 60\n",
    "S0 = 100\n",
    "strike = 59\n",
    "rf = 0.1\n",
    "tipo = \"call\"\n",
    "# #\n",
    "\n",
    "u = cenario_up/S0\n",
    "d = cenario_down/S0\n",
    "\n",
    "if tipo == \"call\":\n",
    "    payoff_up = cenario_up - strike if cenario_up > strike else 0\n",
    "    payoff_down = cenario_down - strike if cenario_down > strike else 0\n",
    "else:\n",
    "    payoff_up = strike - cenario_up if strike > cenario_up else 0\n",
    "    payoff_down = strike - cenario_down if strike > cenario_down else 0\n",
    "\n",
    "delta = (payoff_up - payoff_down) / ((u - d)* S0)\n",
    "B = (u * payoff_down - d * payoff_up) / ((u  - d) * (1 + rf))\n",
    "\n",
    "V0 = B + delta * S0\n",
    "\n",
    "print(delta)"
   ]
  },
  {
   "cell_type": "code",
   "execution_count": 14,
   "metadata": {},
   "outputs": [],
   "source": [
    "def port_repl(u, d, rf, S0, payoff_up, payoff_down, t_rf = 1):\n",
    "    delta = (payoff_up - payoff_down) / ((u - d)* S0)\n",
    "    B = (u * payoff_down - d * payoff_up) / ((u  - d) * ((1 + rf)**t_rf))\n",
    "    V0 = B + delta * S0\n",
    "    return V0"
   ]
  },
  {
   "cell_type": "code",
   "execution_count": 15,
   "metadata": {},
   "outputs": [
    {
     "name": "stdout",
     "output_type": "stream",
     "text": [
      "0.5000000000000001\n"
     ]
    }
   ],
   "source": [
    "print(delta)"
   ]
  },
  {
   "attachments": {},
   "cell_type": "markdown",
   "metadata": {},
   "source": [
    "## Multiplos Períodos"
   ]
  },
  {
   "cell_type": "code",
   "execution_count": 16,
   "metadata": {},
   "outputs": [],
   "source": [
    "def mod_binario_mult_deltaB(cenarios, S0, strike, rf, tipo):\n",
    "    sz = len(cenarios)-1\n",
    "    u = (np.max(cenarios)/S0)**(1/(len(cenarios)+1))\n",
    "    d = (np.min(cenarios)/S0)**(1/(len(cenarios)+1))\n",
    "\n",
    "    while (sz+1)*sz/2 > 1:\n",
    "        sz = len(cenarios)-1\n",
    "        Vn = [ ]\n",
    "        for i in range(sz):\n",
    "            if tipo ==\"call\":\n",
    "                payoff_up = cenarios[i] - strike if cenarios[i] > strike else 0\n",
    "                payoff_down = cenarios[i+1] - strike if cenarios[i+1] > strike else 0\n",
    "            else:\n",
    "                payoff_up = strike - cenarios[i] if cenarios[i] < strike else 0\n",
    "                payoff_down = strike - cenarios[i+1] if cenarios[i+1] < strike else 0\n",
    "            Vn += port_repl(u, d, rf, S0, payoff_up, payoff_down)\n",
    "            print(Vn)\n",
    "        cenarios = Vn\n",
    "        if len(cenarios) > 1:\n",
    "            sz = len(cenarios) - 1\n",
    "\n",
    "    return cenarios"
   ]
  },
  {
   "cell_type": "code",
   "execution_count": 17,
   "metadata": {},
   "outputs": [
    {
     "data": {
      "text/plain": [
       "6.81818181818182"
      ]
     },
     "execution_count": 17,
     "metadata": {},
     "output_type": "execute_result"
    }
   ],
   "source": [
    "port_repl(1.2,0.8,0.1,20,10,0)"
   ]
  },
  {
   "cell_type": "code",
   "execution_count": 18,
   "metadata": {},
   "outputs": [
    {
     "name": "stdout",
     "output_type": "stream",
     "text": [
      "[]\n",
      "[]\n"
     ]
    },
    {
     "data": {
      "text/plain": [
       "[]"
      ]
     },
     "execution_count": 18,
     "metadata": {},
     "output_type": "execute_result"
    }
   ],
   "source": [
    "mod_binario_mult_deltaB([144, 96, 64], 100,100, 0.1, \"put\")"
   ]
  },
  {
   "attachments": {},
   "cell_type": "markdown",
   "metadata": {},
   "source": [
    "## 2 Períodos"
   ]
  },
  {
   "cell_type": "code",
   "execution_count": 1,
   "metadata": {},
   "outputs": [],
   "source": [
    "# # # Raiz \"Modelo Binário por 'pr' \"\n",
    "# INPUTS\n",
    "cenario_up = 196\n",
    "cenario_mid = 84\n",
    "cenario_down = 36\n",
    "S0 = 100\n",
    "strike = 84\n",
    "rf = 0.1\n",
    "tipo = \"put\"\n",
    "# #\n",
    "\n",
    "u = (cenario_up/S0)**(1/2)\n",
    "d = (cenario_down/S0)**(1/2)\n",
    "\n",
    "if tipo == \"call\":\n",
    "    payoff_up = cenario_up - strike if cenario_up > strike else 0\n",
    "    payoff_midu = cenario_mid - strike if cenario_mid > strike else 0\n",
    "    payoff_down = cenario_down - strike if cenario_down > strike else 0\n",
    "else:\n",
    "    payoff_up = strike - cenario_up if cenario_up < strike else 0\n",
    "    payoff_mid = strike - cenario_mid if cenario_mid < strike else 0\n",
    "    payoff_down = strike - cenario_down if cenario_down < strike else 0\n",
    "\n",
    "delta_up = (payoff_up - payoff_mid) / ((u - d)* S0*u)\n",
    "delta_down = (payoff_mid - payoff_down) / ((u - d)* S0*d)\n",
    "\n",
    "B_up = (u * payoff_mid - d * payoff_up) / ((u  - d) * (1 + rf))\n",
    "B_down = (u * payoff_down - d * payoff_mid) / ((u  - d) * (1 + rf))\n",
    "\n",
    "V1u = B_up + delta_up * S0*u\n",
    "V1d = B_down + delta_down * S0*d\n",
    "\n",
    "delta = (V1u - V1d)/((u-d)*S0)\n",
    "B = (u * V1d - d * V1u) / ((u  - d) * (1 + rf))\n",
    "\n",
    "V0 = B + delta * S0"
   ]
  },
  {
   "cell_type": "code",
   "execution_count": 2,
   "metadata": {},
   "outputs": [
    {
     "data": {
      "text/plain": [
       "5.5785123966942045"
      ]
     },
     "execution_count": 2,
     "metadata": {},
     "output_type": "execute_result"
    }
   ],
   "source": [
    "V0"
   ]
  },
  {
   "cell_type": "markdown",
   "metadata": {},
   "source": [
    "## 3 Períodos"
   ]
  },
  {
   "cell_type": "code",
   "execution_count": 33,
   "metadata": {},
   "outputs": [],
   "source": [
    "# # # Raiz \"Modelo Binário por 'pr' \"\n",
    "# INPUTS\n",
    "cenario_up = 144\n",
    "cenario_midu = 96\n",
    "cenario_midd = 96\n",
    "cenario_down = 64\n",
    "S0 = 100\n",
    "strike = 100\n",
    "rf = 0.1\n",
    "tipo = \"put\"\n",
    "# #\n",
    "\n",
    "u = (cenario_up/S0)**(1/3)\n",
    "d = (cenario_down/S0)**(1/3)\n",
    "\n",
    "if tipo == \"call\":\n",
    "    payoff_up = cenario_up - strike if cenario_up > strike else 0\n",
    "    payoff_midu = cenario_midu - strike if cenario_midu > strike else 0\n",
    "    payoff_midd = cenario_midd - strike if cenario_midd > strike else 0\n",
    "    payoff_down = cenario_down - strike if cenario_down > strike else 0\n",
    "else:\n",
    "    payoff_up = strike - cenario_up if cenario_up < strike else 0\n",
    "    payoff_midu = strike - cenario_midu if cenario_midu < strike else 0\n",
    "    payoff_midd = strike - cenario_midd if cenario_midd < strike else 0\n",
    "    payoff_down = strike - cenario_down if cenario_down < strike else 0\n",
    "\n",
    "delta_up = (payoff_up - payoff_midu) / ((u - d)* S0 * u * u)\n",
    "delta_mid = (payoff_midu - payoff_midd) / ((u - d)* S0 * u * d)\n",
    "delta_down = (payoff_midd - payoff_down) / ((u - d)* S0 * d * d)\n",
    "\n",
    "B_up = (u * payoff_midu - d * payoff_up) / ((u  - d) * (1 + rf))\n",
    "B_mid = (u * payoff_midd - d * payoff_midu) / ((u  - d) * (1 + rf))\n",
    "B_down = (u * payoff_down - d * payoff_midd) / ((u  - d) * (1 + rf))\n",
    "\n",
    "V2u = B_up + delta_up * S0 * u * u\n",
    "V2m = B_mid + delta_mid * S0 * u * d\n",
    "V2d = B_down + delta_down * S0 * d * d\n",
    "\n",
    "\n",
    "\n",
    "delta_u = (V2u - V2m) / ((u - d)* S0 * u )\n",
    "delta_d = (V2m - V2d) / ((u - d)* S0 * d )\n",
    "\n",
    "B_u = (u * V2m - d * V2u) / ((u  - d) * (1 + rf))\n",
    "B_d = (u * V2d - d * V2m) / ((u  - d) * (1 + rf))\n",
    "\n",
    "V1u = B_u + delta_u * S0 * u\n",
    "V1d = B_d + delta_d * S0 * d\n",
    "\n",
    "\n",
    "\n",
    "delta = (V1u - V1d)/((u-d) * S0)\n",
    "B = (u * V1d - d * V1u) / ((u  - d) * (1 + rf))\n",
    "\n",
    "V0 = B + delta * S0"
   ]
  },
  {
   "cell_type": "code",
   "execution_count": 8,
   "metadata": {},
   "outputs": [
    {
     "data": {
      "text/plain": [
       "150.4950495049505"
      ]
     },
     "execution_count": 8,
     "metadata": {},
     "output_type": "execute_result"
    }
   ],
   "source": [
    "venc = 1\n",
    "x = 202\n",
    "s0 = 50\n",
    "rf = 0.01\n",
    "# vi > 0\n",
    "vi = x-s0\n",
    "c = vi / (1+rf)\n",
    "c"
   ]
  }
 ],
 "metadata": {
  "kernelspec": {
   "display_name": "Python 3",
   "language": "python",
   "name": "python3"
  },
  "language_info": {
   "codemirror_mode": {
    "name": "ipython",
    "version": 3
   },
   "file_extension": ".py",
   "mimetype": "text/x-python",
   "name": "python",
   "nbconvert_exporter": "python",
   "pygments_lexer": "ipython3",
   "version": "3.10.10"
  },
  "orig_nbformat": 4
 },
 "nbformat": 4,
 "nbformat_minor": 2
}
