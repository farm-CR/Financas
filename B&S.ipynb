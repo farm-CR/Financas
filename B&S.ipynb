{
 "cells": [
  {
   "attachments": {},
   "cell_type": "markdown",
   "metadata": {},
   "source": [
    "## Black & Scholes"
   ]
  },
  {
   "cell_type": "code",
   "execution_count": 2,
   "metadata": {},
   "outputs": [],
   "source": [
    "import numpy as np\n",
    "from scipy.stats import norm\n",
    "import matplotlib.pyplot as plt"
   ]
  },
  {
   "cell_type": "code",
   "execution_count": 3,
   "metadata": {},
   "outputs": [],
   "source": [
    "S0 = 10\n",
    "X = 10\n",
    "tipo = \"call\"\n",
    "venc = 1\n",
    "rf = 0.10\n",
    "vol = 0.2\n",
    "\n",
    "#~~\n",
    "def BS_func(S0 = S0, X = X , tipo = tipo, venc = venc, rf = rf, vol = vol):\n",
    "\n",
    "    d1 = (np.log(S0/X) + (rf + (vol**2)/2)*venc)/(vol*np.sqrt(venc))\n",
    "    d2 = d1 - vol*np.sqrt(venc)\n",
    "\n",
    "    if tipo == (\"put\" or \"PUT\" or \"Put\"):\n",
    "        premium = X*np.exp(-rf*venc)*norm.cdf(-d2) - S0*norm.cdf(-d1)\n",
    "    else:\n",
    "        premium = S0*norm.cdf(d1) - X*np.exp(-rf*venc)*norm.cdf(d2)\n",
    "\n",
    "    return premium"
   ]
  },
  {
   "cell_type": "code",
   "execution_count": 4,
   "metadata": {},
   "outputs": [
    {
     "data": {
      "text/plain": [
       "1.3269676584660894"
      ]
     },
     "execution_count": 4,
     "metadata": {},
     "output_type": "execute_result"
    }
   ],
   "source": [
    "BS_func()"
   ]
  },
  {
   "cell_type": "code",
   "execution_count": 12,
   "metadata": {},
   "outputs": [],
   "source": [
    "St = np.linspace(S0*.5, S0*1.5, 1000)\n",
    "premium_St = [BS_func(s0) for s0 in St]\n",
    "\n",
    "Vt = np.linspace(vol*.1, S0*2, 1000) \n",
    "premium_Vt = [BS_func(vol = sigma) for sigma in Vt]\n",
    "\n",
    "premium__St_Vt = np.array([BS_func(S0 = s0, vol = sigma) for s0 in St for sigma in Vt])"
   ]
  },
  {
   "cell_type": "code",
   "execution_count": 7,
   "metadata": {},
   "outputs": [
    {
     "data": {
      "text/plain": [
       "numpy.ndarray"
      ]
     },
     "execution_count": 7,
     "metadata": {},
     "output_type": "execute_result"
    }
   ],
   "source": [
    "type(St)"
   ]
  }
 ],
 "metadata": {
  "kernelspec": {
   "display_name": "Python 3",
   "language": "python",
   "name": "python3"
  },
  "language_info": {
   "codemirror_mode": {
    "name": "ipython",
    "version": 3
   },
   "file_extension": ".py",
   "mimetype": "text/x-python",
   "name": "python",
   "nbconvert_exporter": "python",
   "pygments_lexer": "ipython3",
   "version": "3.10.11"
  },
  "orig_nbformat": 4
 },
 "nbformat": 4,
 "nbformat_minor": 2
}
